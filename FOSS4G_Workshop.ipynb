{
 "cells": [
  {
   "cell_type": "markdown",
   "metadata": {},
   "source": [
    "### Requirements\n",
    "pandas              1.4.3  <br>\n",
    "requests            2.28.1 <br>\n",
    "psycopg2            2.9.3 <br>\n"
   ]
  },
  {
   "cell_type": "markdown",
   "metadata": {},
   "source": [
    "# OS Downloads API - Open Data\n"
   ]
  },
  {
   "cell_type": "code",
   "execution_count": 1,
   "metadata": {},
   "outputs": [],
   "source": [
    "import os\n",
    "import pandas as pd\n",
    "import requests as r\n",
    "import json\n",
    "import hashlib\n",
    "import zipfile\n",
    "import psycopg2"
   ]
  },
  {
   "cell_type": "code",
   "execution_count": 27,
   "metadata": {},
   "outputs": [
    {
     "ename": "ModuleNotFoundError",
     "evalue": "No module named 'geopandas'",
     "output_type": "error",
     "traceback": [
      "\u001b[0;31m---------------------------------------------------------------------------\u001b[0m",
      "\u001b[0;31mModuleNotFoundError\u001b[0m                       Traceback (most recent call last)",
      "Cell \u001b[0;32mIn [27], line 2\u001b[0m\n\u001b[1;32m      1\u001b[0m \u001b[39mimport\u001b[39;00m \u001b[39mgetpass\u001b[39;00m\n\u001b[0;32m----> 2\u001b[0m \u001b[39mimport\u001b[39;00m \u001b[39mgeopandas\u001b[39;00m\n",
      "\u001b[0;31mModuleNotFoundError\u001b[0m: No module named 'geopandas'"
     ]
    }
   ],
   "source": [
    "import getpass\n",
    "import geopandas"
   ]
  },
  {
   "cell_type": "code",
   "execution_count": 2,
   "metadata": {},
   "outputs": [],
   "source": [
    "#Get the result of the OS Downloads API call \n",
    "open_prod = r.get('https://api.os.uk/downloads/v1/products').json()"
   ]
  },
  {
   "cell_type": "code",
   "execution_count": 4,
   "metadata": {},
   "outputs": [
    {
     "data": {
      "text/html": [
       "<div>\n",
       "<style scoped>\n",
       "    .dataframe tbody tr th:only-of-type {\n",
       "        vertical-align: middle;\n",
       "    }\n",
       "\n",
       "    .dataframe tbody tr th {\n",
       "        vertical-align: top;\n",
       "    }\n",
       "\n",
       "    .dataframe thead th {\n",
       "        text-align: right;\n",
       "    }\n",
       "</style>\n",
       "<table border=\"1\" class=\"dataframe\">\n",
       "  <thead>\n",
       "    <tr style=\"text-align: right;\">\n",
       "      <th></th>\n",
       "      <th>id</th>\n",
       "      <th>name</th>\n",
       "      <th>description</th>\n",
       "      <th>version</th>\n",
       "      <th>url</th>\n",
       "    </tr>\n",
       "  </thead>\n",
       "  <tbody>\n",
       "    <tr>\n",
       "      <th>0</th>\n",
       "      <td>250kScaleColourRaster</td>\n",
       "      <td>1:250 000 Scale Colour Raster™</td>\n",
       "      <td>Get the regional view of towns and villages, r...</td>\n",
       "      <td>2022-06</td>\n",
       "      <td>https://api.os.uk/downloads/v1/products/250kSc...</td>\n",
       "    </tr>\n",
       "    <tr>\n",
       "      <th>1</th>\n",
       "      <td>BoundaryLine</td>\n",
       "      <td>Boundary-Line™</td>\n",
       "      <td>From Euro constituencies to council wards, Bou...</td>\n",
       "      <td>2022-10</td>\n",
       "      <td>https://api.os.uk/downloads/v1/products/Bounda...</td>\n",
       "    </tr>\n",
       "    <tr>\n",
       "      <th>2</th>\n",
       "      <td>CodePointOpen</td>\n",
       "      <td>Code-Point® Open</td>\n",
       "      <td>Free and open postcode location data. Can be u...</td>\n",
       "      <td>2022-11</td>\n",
       "      <td>https://api.os.uk/downloads/v1/products/CodePo...</td>\n",
       "    </tr>\n",
       "    <tr>\n",
       "      <th>3</th>\n",
       "      <td>GBOverviewMaps</td>\n",
       "      <td>GB Overview Maps</td>\n",
       "      <td>Our simplest maps of the British Isles.</td>\n",
       "      <td>2014-11</td>\n",
       "      <td>https://api.os.uk/downloads/v1/products/GBOver...</td>\n",
       "    </tr>\n",
       "    <tr>\n",
       "      <th>4</th>\n",
       "      <td>LIDS</td>\n",
       "      <td>OS Open Linked Identifiers</td>\n",
       "      <td>A comprehensive dataset of cross-referenced id...</td>\n",
       "      <td>2022-09</td>\n",
       "      <td>https://api.os.uk/downloads/v1/products/LIDS</td>\n",
       "    </tr>\n",
       "    <tr>\n",
       "      <th>5</th>\n",
       "      <td>MiniScale</td>\n",
       "      <td>MiniScale®</td>\n",
       "      <td>A simple overview map of Great Britain.</td>\n",
       "      <td>2022-01</td>\n",
       "      <td>https://api.os.uk/downloads/v1/products/MiniScale</td>\n",
       "    </tr>\n",
       "    <tr>\n",
       "      <th>6</th>\n",
       "      <td>OpenGreenspace</td>\n",
       "      <td>OS Open Greenspace</td>\n",
       "      <td>Covering a range of greenspaces in urban and r...</td>\n",
       "      <td>2022-10</td>\n",
       "      <td>https://api.os.uk/downloads/v1/products/OpenGr...</td>\n",
       "    </tr>\n",
       "    <tr>\n",
       "      <th>7</th>\n",
       "      <td>OpenMapLocal</td>\n",
       "      <td>OS OpenMap - Local</td>\n",
       "      <td>Map, visualise and truly understand your data ...</td>\n",
       "      <td>2022-04</td>\n",
       "      <td>https://api.os.uk/downloads/v1/products/OpenMa...</td>\n",
       "    </tr>\n",
       "    <tr>\n",
       "      <th>8</th>\n",
       "      <td>OpenNames</td>\n",
       "      <td>OS Open Names</td>\n",
       "      <td>A comprehensive dataset of place names, roads ...</td>\n",
       "      <td>2022-10</td>\n",
       "      <td>https://api.os.uk/downloads/v1/products/OpenNames</td>\n",
       "    </tr>\n",
       "    <tr>\n",
       "      <th>9</th>\n",
       "      <td>OpenRivers</td>\n",
       "      <td>OS Open Rivers</td>\n",
       "      <td>Understand how watercourses in Great Britain j...</td>\n",
       "      <td>2022-10</td>\n",
       "      <td>https://api.os.uk/downloads/v1/products/OpenRi...</td>\n",
       "    </tr>\n",
       "    <tr>\n",
       "      <th>10</th>\n",
       "      <td>OpenRoads</td>\n",
       "      <td>OS Open Roads</td>\n",
       "      <td>Get a high-level view of the road network, fro...</td>\n",
       "      <td>2022-10</td>\n",
       "      <td>https://api.os.uk/downloads/v1/products/OpenRoads</td>\n",
       "    </tr>\n",
       "    <tr>\n",
       "      <th>11</th>\n",
       "      <td>OpenTOID</td>\n",
       "      <td>OS Open TOID</td>\n",
       "      <td>An open dataset providing access to a generali...</td>\n",
       "      <td>2022-10</td>\n",
       "      <td>https://api.os.uk/downloads/v1/products/OpenTOID</td>\n",
       "    </tr>\n",
       "    <tr>\n",
       "      <th>12</th>\n",
       "      <td>OpenUPRN</td>\n",
       "      <td>OS Open UPRN</td>\n",
       "      <td>An open dataset containing all the Unique Prop...</td>\n",
       "      <td>2022-11</td>\n",
       "      <td>https://api.os.uk/downloads/v1/products/OpenUPRN</td>\n",
       "    </tr>\n",
       "    <tr>\n",
       "      <th>13</th>\n",
       "      <td>OpenUSRN</td>\n",
       "      <td>OS Open USRN</td>\n",
       "      <td>An open dataset of all Unique Street Reference...</td>\n",
       "      <td>2022-11</td>\n",
       "      <td>https://api.os.uk/downloads/v1/products/OpenUSRN</td>\n",
       "    </tr>\n",
       "    <tr>\n",
       "      <th>14</th>\n",
       "      <td>OpenZoomstack</td>\n",
       "      <td>OS Open Zoomstack</td>\n",
       "      <td>A comprehensive basemap of Great Britain showi...</td>\n",
       "      <td>2022-06</td>\n",
       "      <td>https://api.os.uk/downloads/v1/products/OpenZo...</td>\n",
       "    </tr>\n",
       "    <tr>\n",
       "      <th>15</th>\n",
       "      <td>Strategi</td>\n",
       "      <td>Strategi®</td>\n",
       "      <td>A regional vector map dataset, railways, airpo...</td>\n",
       "      <td>2016-01</td>\n",
       "      <td>https://api.os.uk/downloads/v1/products/Strategi</td>\n",
       "    </tr>\n",
       "    <tr>\n",
       "      <th>16</th>\n",
       "      <td>Terrain50</td>\n",
       "      <td>OS Terrain® 50</td>\n",
       "      <td>Visualise simple landscapes in 3D and bring yo...</td>\n",
       "      <td>2022-08</td>\n",
       "      <td>https://api.os.uk/downloads/v1/products/Terrain50</td>\n",
       "    </tr>\n",
       "    <tr>\n",
       "      <th>17</th>\n",
       "      <td>VectorMapDistrict</td>\n",
       "      <td>OS VectorMap® District</td>\n",
       "      <td>District level mapping. Use the vectors to cus...</td>\n",
       "      <td>2022-05</td>\n",
       "      <td>https://api.os.uk/downloads/v1/products/Vector...</td>\n",
       "    </tr>\n",
       "  </tbody>\n",
       "</table>\n",
       "</div>"
      ],
      "text/plain": [
       "                       id                            name  \\\n",
       "0   250kScaleColourRaster  1:250 000 Scale Colour Raster™   \n",
       "1            BoundaryLine                  Boundary-Line™   \n",
       "2           CodePointOpen                Code-Point® Open   \n",
       "3          GBOverviewMaps                GB Overview Maps   \n",
       "4                    LIDS      OS Open Linked Identifiers   \n",
       "5               MiniScale                      MiniScale®   \n",
       "6          OpenGreenspace              OS Open Greenspace   \n",
       "7            OpenMapLocal              OS OpenMap - Local   \n",
       "8               OpenNames                   OS Open Names   \n",
       "9              OpenRivers                  OS Open Rivers   \n",
       "10              OpenRoads                   OS Open Roads   \n",
       "11               OpenTOID                    OS Open TOID   \n",
       "12               OpenUPRN                    OS Open UPRN   \n",
       "13               OpenUSRN                    OS Open USRN   \n",
       "14          OpenZoomstack               OS Open Zoomstack   \n",
       "15               Strategi                       Strategi®   \n",
       "16              Terrain50                  OS Terrain® 50   \n",
       "17      VectorMapDistrict          OS VectorMap® District   \n",
       "\n",
       "                                          description  version  \\\n",
       "0   Get the regional view of towns and villages, r...  2022-06   \n",
       "1   From Euro constituencies to council wards, Bou...  2022-10   \n",
       "2   Free and open postcode location data. Can be u...  2022-11   \n",
       "3             Our simplest maps of the British Isles.  2014-11   \n",
       "4   A comprehensive dataset of cross-referenced id...  2022-09   \n",
       "5             A simple overview map of Great Britain.  2022-01   \n",
       "6   Covering a range of greenspaces in urban and r...  2022-10   \n",
       "7   Map, visualise and truly understand your data ...  2022-04   \n",
       "8   A comprehensive dataset of place names, roads ...  2022-10   \n",
       "9   Understand how watercourses in Great Britain j...  2022-10   \n",
       "10  Get a high-level view of the road network, fro...  2022-10   \n",
       "11  An open dataset providing access to a generali...  2022-10   \n",
       "12  An open dataset containing all the Unique Prop...  2022-11   \n",
       "13  An open dataset of all Unique Street Reference...  2022-11   \n",
       "14  A comprehensive basemap of Great Britain showi...  2022-06   \n",
       "15  A regional vector map dataset, railways, airpo...  2016-01   \n",
       "16  Visualise simple landscapes in 3D and bring yo...  2022-08   \n",
       "17  District level mapping. Use the vectors to cus...  2022-05   \n",
       "\n",
       "                                                  url  \n",
       "0   https://api.os.uk/downloads/v1/products/250kSc...  \n",
       "1   https://api.os.uk/downloads/v1/products/Bounda...  \n",
       "2   https://api.os.uk/downloads/v1/products/CodePo...  \n",
       "3   https://api.os.uk/downloads/v1/products/GBOver...  \n",
       "4        https://api.os.uk/downloads/v1/products/LIDS  \n",
       "5   https://api.os.uk/downloads/v1/products/MiniScale  \n",
       "6   https://api.os.uk/downloads/v1/products/OpenGr...  \n",
       "7   https://api.os.uk/downloads/v1/products/OpenMa...  \n",
       "8   https://api.os.uk/downloads/v1/products/OpenNames  \n",
       "9   https://api.os.uk/downloads/v1/products/OpenRi...  \n",
       "10  https://api.os.uk/downloads/v1/products/OpenRoads  \n",
       "11   https://api.os.uk/downloads/v1/products/OpenTOID  \n",
       "12   https://api.os.uk/downloads/v1/products/OpenUPRN  \n",
       "13   https://api.os.uk/downloads/v1/products/OpenUSRN  \n",
       "14  https://api.os.uk/downloads/v1/products/OpenZo...  \n",
       "15   https://api.os.uk/downloads/v1/products/Strategi  \n",
       "16  https://api.os.uk/downloads/v1/products/Terrain50  \n",
       "17  https://api.os.uk/downloads/v1/products/Vector...  "
      ]
     },
     "execution_count": 4,
     "metadata": {},
     "output_type": "execute_result"
    }
   ],
   "source": [
    "#Load view into DataFrame \n",
    "df = pd.DataFrame(open_prod)\n",
    "df"
   ]
  },
  {
   "cell_type": "code",
   "execution_count": 14,
   "metadata": {},
   "outputs": [],
   "source": [
    "#define download location\n",
    "download_loc = r'/home/codespace/'"
   ]
  },
  {
   "cell_type": "code",
   "execution_count": 7,
   "metadata": {},
   "outputs": [],
   "source": [
    "#create download function\n",
    "def download_file(url,file):\n",
    "    with r.get(url, stream=True) as d:\n",
    "        d.raise_for_status()\n",
    "        with open(download_loc+'/'+file, 'wb') as f:\n",
    "            for chunk in d.iter_content(chunk_size=8192): \n",
    "                f.write(chunk)\n",
    "    return download_loc"
   ]
  },
  {
   "cell_type": "markdown",
   "metadata": {},
   "source": [
    "## What is MD5?\n",
    "MD5 (message-digest algorithm) is a cryptographic protocol used for authenticating messages as well as content verification and digital signatures. MD5 is based on a hash function that verifies that a file you sent matches the file received by the person you sent it to. "
   ]
  },
  {
   "cell_type": "code",
   "execution_count": 8,
   "metadata": {},
   "outputs": [],
   "source": [
    "#create md5 function\n",
    "def md5(fname):\n",
    "    hash_md5 = hashlib.md5()\n",
    "    with open(fname, \"rb\") as f:\n",
    "        for chunk in iter(lambda: f.read(4096), b\"\"):\n",
    "            hash_md5.update(chunk)\n",
    "    return hash_md5.hexdigest()"
   ]
  },
  {
   "cell_type": "code",
   "execution_count": 9,
   "metadata": {},
   "outputs": [],
   "source": [
    "#define our product of interest\n",
    "open_product = 'OpenRivers'"
   ]
  },
  {
   "cell_type": "code",
   "execution_count": 15,
   "metadata": {},
   "outputs": [
    {
     "data": {
      "text/html": [
       "<div>\n",
       "<style scoped>\n",
       "    .dataframe tbody tr th:only-of-type {\n",
       "        vertical-align: middle;\n",
       "    }\n",
       "\n",
       "    .dataframe tbody tr th {\n",
       "        vertical-align: top;\n",
       "    }\n",
       "\n",
       "    .dataframe thead th {\n",
       "        text-align: right;\n",
       "    }\n",
       "</style>\n",
       "<table border=\"1\" class=\"dataframe\">\n",
       "  <thead>\n",
       "    <tr style=\"text-align: right;\">\n",
       "      <th></th>\n",
       "      <th>md5</th>\n",
       "      <th>size</th>\n",
       "      <th>url</th>\n",
       "      <th>format</th>\n",
       "      <th>area</th>\n",
       "      <th>fileName</th>\n",
       "      <th>subformat</th>\n",
       "    </tr>\n",
       "  </thead>\n",
       "  <tbody>\n",
       "    <tr>\n",
       "      <th>0</th>\n",
       "      <td>765d0528d8c685567790877042b9ee85</td>\n",
       "      <td>39114249</td>\n",
       "      <td>https://api.os.uk/downloads/v1/products/OpenRi...</td>\n",
       "      <td>ESRI® Shapefile</td>\n",
       "      <td>GB</td>\n",
       "      <td>oprvrs_essh_gb.zip</td>\n",
       "      <td>NaN</td>\n",
       "    </tr>\n",
       "    <tr>\n",
       "      <th>1</th>\n",
       "      <td>270abd3b058a193eb092cf08023e7abb</td>\n",
       "      <td>40248959</td>\n",
       "      <td>https://api.os.uk/downloads/v1/products/OpenRi...</td>\n",
       "      <td>GML</td>\n",
       "      <td>GB</td>\n",
       "      <td>oprvrs_gml3_gb.zip</td>\n",
       "      <td>3</td>\n",
       "    </tr>\n",
       "    <tr>\n",
       "      <th>2</th>\n",
       "      <td>27a054fc093c14f6bfe46494b5f74e15</td>\n",
       "      <td>55042488</td>\n",
       "      <td>https://api.os.uk/downloads/v1/products/OpenRi...</td>\n",
       "      <td>GeoPackage</td>\n",
       "      <td>GB</td>\n",
       "      <td>oprvrs_gpkg_gb.zip</td>\n",
       "      <td>NaN</td>\n",
       "    </tr>\n",
       "    <tr>\n",
       "      <th>3</th>\n",
       "      <td>d937869f756c1c1bf2f1670dedce6b36</td>\n",
       "      <td>131121463</td>\n",
       "      <td>https://api.os.uk/downloads/v1/products/OpenRi...</td>\n",
       "      <td>Vector Tiles</td>\n",
       "      <td>GB</td>\n",
       "      <td>oprvrs_mbtiles_gb.zip</td>\n",
       "      <td>(MBTiles)</td>\n",
       "    </tr>\n",
       "  </tbody>\n",
       "</table>\n",
       "</div>"
      ],
      "text/plain": [
       "                                md5       size  \\\n",
       "0  765d0528d8c685567790877042b9ee85   39114249   \n",
       "1  270abd3b058a193eb092cf08023e7abb   40248959   \n",
       "2  27a054fc093c14f6bfe46494b5f74e15   55042488   \n",
       "3  d937869f756c1c1bf2f1670dedce6b36  131121463   \n",
       "\n",
       "                                                 url           format area  \\\n",
       "0  https://api.os.uk/downloads/v1/products/OpenRi...  ESRI® Shapefile   GB   \n",
       "1  https://api.os.uk/downloads/v1/products/OpenRi...              GML   GB   \n",
       "2  https://api.os.uk/downloads/v1/products/OpenRi...       GeoPackage   GB   \n",
       "3  https://api.os.uk/downloads/v1/products/OpenRi...     Vector Tiles   GB   \n",
       "\n",
       "                fileName  subformat  \n",
       "0     oprvrs_essh_gb.zip        NaN  \n",
       "1     oprvrs_gml3_gb.zip          3  \n",
       "2     oprvrs_gpkg_gb.zip        NaN  \n",
       "3  oprvrs_mbtiles_gb.zip  (MBTiles)  "
      ]
     },
     "execution_count": 15,
     "metadata": {},
     "output_type": "execute_result"
    }
   ],
   "source": [
    "df = df.loc[df['id'] == open_product] #locate the correct product\n",
    "product = r.get(df.iloc[0]['url']).json() #get URL request for product\n",
    "download = product['downloadsUrl'] #find the download URL \n",
    "filetypes = r.get(download).json() #get filetypes with download URLs\n",
    "pd.DataFrame(filetypes) "
   ]
  },
  {
   "cell_type": "code",
   "execution_count": 11,
   "metadata": {},
   "outputs": [],
   "source": [
    "#define desired filetype\n",
    "download_filetype = 'GeoPackage'"
   ]
  },
  {
   "cell_type": "code",
   "execution_count": 21,
   "metadata": {},
   "outputs": [
    {
     "name": "stdout",
     "output_type": "stream",
     "text": [
      "Successfully Downloaded \n"
     ]
    }
   ],
   "source": [
    "#find the right filetype\n",
    "for x in range(len(filetypes)):\n",
    "    if filetypes[x]['format'] == download_filetype:\n",
    "        #download the file\n",
    "        download_file(filetypes[x]['url'],filetypes[x]['fileName'])\n",
    "        #check the file md5's match\n",
    "        if md5(download_loc +'/'+ filetypes[x]['fileName']) == filetypes[x]['md5']:\n",
    "            print('Successfully Downloaded ')\n",
    "            file_path = download_loc +'/'+ filetypes[x]['fileName']\n",
    "        else: \n",
    "            print('MD5 does not match')\n"
   ]
  },
  {
   "cell_type": "code",
   "execution_count": 22,
   "metadata": {},
   "outputs": [],
   "source": [
    "#unzip the file\n",
    "with zipfile.ZipFile(file_path, 'r') as zip_ref:\n",
    "    zip_ref.extractall(download_loc+'/'+open_product)\n",
    "path = os.listdir(download_loc+'/'+open_product +'/' + 'data')\n",
    "file = download_loc+'/'+open_product +'/' + 'data' + '/' + path[0]\n"
   ]
  },
  {
   "cell_type": "code",
   "execution_count": 28,
   "metadata": {},
   "outputs": [],
   "source": [
    "#create schema\n",
    "#if using Linux use getpass.getuser() as the variable in schema creation\n",
    "\n",
    "#connection details\n",
    "dbname = 'foss4g'\n",
    "host = '18.135.248.161'\n",
    "port = '5432'\n",
    "user = 'postgres'\n",
    "password = 'V2ql011Bw5A6'\n",
    "\n",
    "#conn_local = psycopg2.connect(database=\"postgres\", user=f\"postgres\", password=f\"password\",host=\"localhost\")\n",
    "conn_cloud = psycopg2.connect(database=dbname, user=user, password=password,host=host)\n",
    "cursor = conn_cloud.cursor()\n",
    "sql = f'''CREATE SCHEMA IF NOT EXISTS {getpass.getuser( )}; '''\n",
    "cursor.execute(sql)\n",
    "conn_cloud.commit()\n",
    "conn_cloud.close()"
   ]
  },
  {
   "cell_type": "code",
   "execution_count": 29,
   "metadata": {},
   "outputs": [
    {
     "data": {
      "text/plain": [
       "'codespace'"
      ]
     },
     "execution_count": 29,
     "metadata": {},
     "output_type": "execute_result"
    }
   ],
   "source": [
    "getpass.getuser( )"
   ]
  },
  {
   "cell_type": "code",
   "execution_count": 30,
   "metadata": {},
   "outputs": [
    {
     "ename": "OSError",
     "evalue": "[Errno 6] No such device or address",
     "output_type": "error",
     "traceback": [
      "\u001b[0;31m---------------------------------------------------------------------------\u001b[0m",
      "\u001b[0;31mOSError\u001b[0m                                   Traceback (most recent call last)",
      "Cell \u001b[0;32mIn [30], line 4\u001b[0m\n\u001b[1;32m      1\u001b[0m \u001b[39m#create schema if you have postgresql installed  \u001b[39;00m\n\u001b[1;32m      2\u001b[0m \u001b[39m#if using Linux use getpass.getuser() as the variable in schema creation\u001b[39;00m\n\u001b[1;32m      3\u001b[0m pg_connection \u001b[39m=\u001b[39m \u001b[39m'\u001b[39m\u001b[39m-d postgres -U postgres -p password -h localhost -p 5432\u001b[39m\u001b[39m'\u001b[39m\n\u001b[0;32m----> 4\u001b[0m create_schema \u001b[39m=\u001b[39m \u001b[39mf\u001b[39m\u001b[39m'''\u001b[39m\u001b[39mpsql \u001b[39m\u001b[39m{\u001b[39;00mpg_connection\u001b[39m}\u001b[39;00m\u001b[39m -c \u001b[39m\u001b[39m\"\u001b[39m\u001b[39mCREATE SCHEMA IF NOT EXISTS \u001b[39m\u001b[39m{\u001b[39;00mos\u001b[39m.\u001b[39;49mgetlogin( )\u001b[39m}\u001b[39;00m\u001b[39m\"\u001b[39m\u001b[39m'''\u001b[39m\n\u001b[1;32m      5\u001b[0m \u001b[39mprint\u001b[39m(create_schema)\n\u001b[1;32m      6\u001b[0m os\u001b[39m.\u001b[39msystem(create_schema)\n",
      "\u001b[0;31mOSError\u001b[0m: [Errno 6] No such device or address"
     ]
    }
   ],
   "source": [
    "#create schema if you have postgresql installed  \n",
    "#if using Linux use getpass.getuser() as the variable in schema creation\n",
    "pg_connection = '-d postgres -U postgres -p password -h localhost -p 5432'\n",
    "create_schema = f'''psql {pg_connection} -c \"CREATE SCHEMA IF NOT EXISTS {os.getlogin( )}\"'''\n",
    "print(create_schema)\n",
    "os.system(create_schema)"
   ]
  },
  {
   "cell_type": "code",
   "execution_count": 31,
   "metadata": {},
   "outputs": [
    {
     "name": "stdout",
     "output_type": "stream",
     "text": [
      "ogr2ogr -f PostgreSQL PG:\"dbname=foss4g user=postgres password=V2ql011Bw5A6 active_schema=codespace host=18.135.248.161 port=5432\" /home/codespace//OpenRivers/data/oprvrs_gb.gpkg\n"
     ]
    },
    {
     "name": "stderr",
     "output_type": "stream",
     "text": [
      "sh: 1: ogr2ogr: not found\n"
     ]
    },
    {
     "data": {
      "text/plain": [
       "32512"
      ]
     },
     "execution_count": 31,
     "metadata": {},
     "output_type": "execute_result"
    }
   ],
   "source": [
    "#load data if you have ogr2ogr\n",
    "#if using Linux use getpass.getuser() as the variable in active_schema \n",
    "#pg_connection_ogr = f'PG:\"dbname=postgres user=postgres password=password active_schema={os.getlogin( )} host=localhost port=5432\"'\n",
    "pg_connection_ogr = f'PG:\"dbname={dbname} user={user} password={password} active_schema={getpass.getuser( )} host={host} port={port}\"'\n",
    "command = f'ogr2ogr -f PostgreSQL {pg_connection_ogr} {file}'\n",
    "print(command)\n",
    "os.system(command)\n"
   ]
  }
 ],
 "metadata": {
  "kernelspec": {
   "display_name": "Python 3.10.4 64-bit",
   "language": "python",
   "name": "python3"
  },
  "language_info": {
   "codemirror_mode": {
    "name": "ipython",
    "version": 3
   },
   "file_extension": ".py",
   "mimetype": "text/x-python",
   "name": "python",
   "nbconvert_exporter": "python",
   "pygments_lexer": "ipython3",
   "version": "3.10.4"
  },
  "vscode": {
   "interpreter": {
    "hash": "3ad933181bd8a04b432d3370b9dc3b0662ad032c4dfaa4e4f1596c548f763858"
   }
  }
 },
 "nbformat": 4,
 "nbformat_minor": 2
}
